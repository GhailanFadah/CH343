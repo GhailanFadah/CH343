{
 "cells": [
  {
   "cell_type": "markdown",
   "metadata": {},
   "source": [
    "**YOUR NAMES HERE**\n",
    "\n",
    "Fall 2023\n",
    "\n",
    "CS343: Neural Networks\n",
    "\n",
    "Project 3: Convolutional Neural Networks"
   ]
  },
  {
   "cell_type": "code",
   "execution_count": 5,
   "metadata": {},
   "outputs": [
    {
     "name": "stderr",
     "output_type": "stream",
     "text": [
      "/var/folders/nn/7dg3frxj7110d9z8g5flwtj80000gn/T/ipykernel_5577/3227147742.py:7: MatplotlibDeprecationWarning: The seaborn styles shipped by Matplotlib are deprecated since 3.6, as they no longer correspond to the styles shipped by seaborn. However, they will remain available as 'seaborn-v0_8-<style>'. Alternatively, directly use the seaborn API instead.\n",
      "  plt.style.use(['seaborn-colorblind', 'seaborn-darkgrid'])\n",
      "/var/folders/nn/7dg3frxj7110d9z8g5flwtj80000gn/T/ipykernel_5577/3227147742.py:7: MatplotlibDeprecationWarning: The seaborn styles shipped by Matplotlib are deprecated since 3.6, as they no longer correspond to the styles shipped by seaborn. However, they will remain available as 'seaborn-v0_8-<style>'. Alternatively, directly use the seaborn API instead.\n",
      "  plt.style.use(['seaborn-colorblind', 'seaborn-darkgrid'])\n"
     ]
    }
   ],
   "source": [
    "import os\n",
    "import random\n",
    "import numpy as np\n",
    "import matplotlib.pyplot as plt\n",
    "\n",
    "plt.show()\n",
    "plt.style.use(['seaborn-colorblind', 'seaborn-darkgrid'])\n",
    "plt.rcParams.update({'font.size': 20})\n",
    "\n",
    "np.set_printoptions(suppress=True, precision=7)\n",
    "\n",
    "# Automatically reload your external source code\n",
    "%load_ext autoreload\n",
    "%autoreload 2"
   ]
  },
  {
   "cell_type": "markdown",
   "metadata": {},
   "source": [
    "## Goal\n",
    "\n",
    "**Make sure any debug printouts do not appear if `verbose=False`!**\n",
    "\n",
    "This week, you will test your CNN on the STL-10 dataset! The last step before you can do this is implementing an optimizer to update your network weights during gradient descent. You will implement a few and compare them."
   ]
  },
  {
   "cell_type": "markdown",
   "metadata": {},
   "source": [
    "## Task 5: Implement weight optimizers for gradient descent\n",
    "\n",
    "To change the weights during training, we need an optimization algorithm to have our loss decrease over epochs as we learn the structure of the input patterns. Until now, we used **Stochastic gradient descent (SGD)**, which is the simplest algorithm. You will implement 3 popular algorithms:\n",
    "\n",
    "- `SGD` (stochastic gradient descent)\n",
    "- `SGD_Momentum` (stochastic gradient descent with momentum)\n",
    "- `Adam` (Adaptive Moment Estimation)\n",
    "\n",
    "Implement each of these according to the update equations (the `update_weights()` in each subclass in `optimizer.py`). Let's use $w_t$ in the math below to represent the weights in a layer at time step $t$, $dw$ to represent the gradient of the weights in a layer, and $\\eta$ represent the learning rate. We use vectorized notation below (update applies to all weights element-wise). Then:\n",
    "\n",
    "**SGD**: \n",
    "\n",
    "$w_{t} = w_{t-1} - \\eta \\times dw$\n",
    "\n",
    "**SGD (momentum)**:\n",
    "\n",
    "$v_{t} = m \\times v_{t-1} - \\eta \\times dw$\n",
    "\n",
    "$w_{t} = w_{t-1} + v_t$\n",
    "\n",
    "where $v_t$ is called the `velocity` at time $t$. At the first time step (0), velocity should be set to all zeros and have the same shape as $w$. $m$ is a constant that determines how much of the gradient obtained on the previous time step should factor into the weight update for the current time step.\n",
    "\n",
    "\n",
    "**Adam**:\n",
    "\n",
    "$v_{t} = \\beta_1 \\times v_{t-1} + (1 - \\beta_1)\\times dw$\n",
    "\n",
    "$p_{t} = \\beta_2 \\times p_{t-1} + (1 - \\beta_2)\\times dw^2$\n",
    "\n",
    "$vc = v_{t} / \\left (1-(\\beta_1^t) \\right )$\n",
    "\n",
    "$pc = p_{t} / \\left (1-(\\beta_2^t) \\right )$\n",
    "\n",
    "$w_{t} = w_{t-1} - \\left ( \\eta \\times vc \\right ) / \\left ( \\sqrt(pc) + \\epsilon \\right ) $\n",
    "\n",
    "\n",
    "Like SGD (momentum), Adam records momentum terms $v$ and $p$. At time step 0, you should initialize them to zeros in an array equal in size to the weights. $vc$ and $pc$ are variables computed on each time step. The remaining quantities are constants. Note that $t$ keeps track of the integer time step, and needs to be incremented on each update. "
   ]
  },
  {
   "cell_type": "code",
   "execution_count": 6,
   "metadata": {},
   "outputs": [],
   "source": [
    "from optimizer import *"
   ]
  },
  {
   "cell_type": "markdown",
   "metadata": {},
   "source": [
    "####  Test SGD"
   ]
  },
  {
   "cell_type": "code",
   "execution_count": 16,
   "metadata": {},
   "outputs": [
    {
     "name": "stdout",
     "output_type": "stream",
     "text": [
      "SGD: Wts after 1 iter [-3.1764052 -2.0400157 -1.0978738 -0.2240893  0.8132442  2.0977278]\n",
      "SGD: Wts after 2 iter [-3.3528105 -2.0800314 -1.1957476 -0.4481786  0.6264884  2.1954556]\n"
     ]
    }
   ],
   "source": [
    "np.random.seed(0)\n",
    "\n",
    "wts = np.arange(-3, 3, dtype=np.float64)\n",
    "d_wts = np.random.randn(len(wts))\n",
    "\n",
    "optimizer = SGD()\n",
    "optimizer.prepare(wts, d_wts)\n",
    "\n",
    "new_wts_1 = optimizer.update_weights(verbose = True)\n",
    "new_wts_2 = optimizer.update_weights()\n",
    "\n",
    "print(f'SGD: Wts after 1 iter {new_wts_1}')\n",
    "print(f'SGD: Wts after 2 iter {new_wts_2}')"
   ]
  },
  {
   "cell_type": "markdown",
   "metadata": {},
   "source": [
    "Output should be:\n",
    "\n",
    "    SGD: Wts after 1 iter [-3.1764052 -2.0400157 -1.0978738 -0.2240893  0.8132442  2.0977278]\n",
    "    SGD: Wts after 2 iter [-3.3528105 -2.0800314 -1.1957476 -0.4481786  0.6264884  2.1954556]"
   ]
  },
  {
   "cell_type": "markdown",
   "metadata": {},
   "source": [
    "####  Test SGD_Momentum"
   ]
  },
  {
   "cell_type": "code",
   "execution_count": 17,
   "metadata": {},
   "outputs": [
    {
     "name": "stdout",
     "output_type": "stream",
     "text": [
      "SGD M: Wts after 1 iter\n",
      "[[ 1.6879486  0.3879897  0.9343517  2.2075258]\n",
      " [ 1.7181501 -0.9567621  0.9187816 -0.0659476]\n",
      " [ 0.1520801  0.3452366  0.0576     1.52849  ]]\n",
      "SGD M: Wts after 2 iter\n",
      "[[ 1.5661825  0.3685217  0.8633335  2.1541379]\n",
      " [ 1.4790974 -0.9239367  0.8686908  0.0707077]\n",
      " [ 0.5605585  0.2406577 -0.0807098  1.6472364]]\n"
     ]
    }
   ],
   "source": [
    "np.random.seed(0)\n",
    "\n",
    "wts = np.random.randn(3, 4)\n",
    "d_wts = np.random.randn(3, 4)\n",
    "\n",
    "optimizer = SGD_Momentum(lr=0.1, m=0.6)\n",
    "optimizer.prepare(wts, d_wts)\n",
    "\n",
    "new_wts_1 = optimizer.update_weights()\n",
    "new_wts_2 = optimizer.update_weights()\n",
    "\n",
    "print(f'SGD M: Wts after 1 iter\\n{new_wts_1}')\n",
    "print(f'SGD M: Wts after 2 iter\\n{new_wts_2}')"
   ]
  },
  {
   "cell_type": "markdown",
   "metadata": {},
   "source": [
    "Output should be:\n",
    "\n",
    "    SGD M: Wts after 1 iter\n",
    "    [[ 1.6879486  0.3879897  0.9343517  2.2075258]\n",
    "     [ 1.7181501 -0.9567621  0.9187816 -0.0659476]\n",
    "     [ 0.1520801  0.3452366  0.0576     1.52849  ]]\n",
    "    SGD M: Wts after 2 iter\n",
    "    [[ 1.5661825  0.3685217  0.8633335  2.1541379]\n",
    "     [ 1.4790974 -0.9239367  0.8686908  0.0707077]\n",
    "     [ 0.5605585  0.2406577 -0.0807098  1.6472364]]"
   ]
  },
  {
   "cell_type": "markdown",
   "metadata": {},
   "source": [
    "####  Test Adam"
   ]
  },
  {
   "cell_type": "code",
   "execution_count": 18,
   "metadata": {},
   "outputs": [
    {
     "name": "stdout",
     "output_type": "stream",
     "text": [
      "Adam: Wts after 1 iter\n",
      "[[ 1.6640523  0.3001572  0.878738   2.1408932]\n",
      " [ 1.767558  -0.8772779  0.8500884 -0.0513572]\n",
      " [-0.0032189  0.3105985  0.0440436  1.5542735]]\n",
      "Adam: Wts after 2 iter\n",
      "[[ 1.5640523  0.2001572  0.778738   2.0408932]\n",
      " [ 1.667558  -0.7772779  0.7500884  0.0486428]\n",
      " [ 0.0967811  0.2105985 -0.0559564  1.6542735]]\n",
      "Adam: Wts after 3 iter\n",
      "[[ 1.4640523  0.1001572  0.678738   1.9408932]\n",
      " [ 1.567558  -0.6772779  0.6500884  0.1486428]\n",
      " [ 0.1967811  0.1105985 -0.1559564  1.7542735]]\n"
     ]
    }
   ],
   "source": [
    "np.random.seed(0)\n",
    "\n",
    "wts = np.random.randn(3, 4)\n",
    "d_wts = np.random.randn(3, 4)\n",
    "\n",
    "optimizer = Adam(lr=0.1)\n",
    "optimizer.prepare(wts, d_wts)\n",
    "\n",
    "new_wts_1 = optimizer.update_weights()\n",
    "new_wts_2 = optimizer.update_weights()\n",
    "new_wts_3 = optimizer.update_weights()\n",
    "\n",
    "print(f'Adam: Wts after 1 iter\\n{new_wts_1}')\n",
    "print(f'Adam: Wts after 2 iter\\n{new_wts_2}')\n",
    "print(f'Adam: Wts after 3 iter\\n{new_wts_3}')"
   ]
  },
  {
   "cell_type": "markdown",
   "metadata": {},
   "source": [
    "Output should be:\n",
    "\n",
    "    Adam: Wts after 1 iter\n",
    "    [[ 1.6640523  0.3001572  0.878738   2.1408932]\n",
    "     [ 1.767558  -0.8772779  0.8500884 -0.0513572]\n",
    "     [-0.0032189  0.3105985  0.0440436  1.5542735]]\n",
    "    Adam: Wts after 2 iter\n",
    "    [[ 1.5640523  0.2001572  0.778738   2.0408932]\n",
    "     [ 1.667558  -0.7772779  0.7500884  0.0486428]\n",
    "     [ 0.0967811  0.2105985 -0.0559564  1.6542735]]\n",
    "    Adam: Wts after 3 iter\n",
    "    [[ 1.4640523  0.1001572  0.678738   1.9408932]\n",
    "     [ 1.567558  -0.6772779  0.6500884  0.1486428]\n",
    "     [ 0.1967811  0.1105985 -0.1559564  1.7542735]]  "
   ]
  },
  {
   "cell_type": "markdown",
   "metadata": {},
   "source": [
    "## Task 6: Write network training methods\n",
    "\n",
    "Implement methods in `network.py` to actually train the network, using all the building blocks that you have created. The methods to implement are:\n",
    "\n",
    "- `predict`\n",
    "- `fit`"
   ]
  },
  {
   "cell_type": "markdown",
   "metadata": {},
   "source": [
    "## Task 7: Overfitting a convolutional neural network\n",
    "\n",
    "Usually we try to prevent overfitting, but we can use it as a valuable debugging tool to test out a complex backprop-based neural network. Assuming everything is working, it is almost always the case that we should be able to overfit a tiny dataset with a huge model with tons of parameters (i.e. your CNN). You will use this strategy to verify that your network is working.\n",
    "\n",
    "Let's use a small amount of real data from STL-10 to perform the overfitting test."
   ]
  },
  {
   "cell_type": "markdown",
   "metadata": {},
   "source": [
    "### 7a. Move `load_stl10_dataset` and `preprocess_data.py` from the MLP project\n",
    "\n",
    "Make the one following change in `preprocess_data.py`:\n",
    "\n",
    "- In `preprocess_stl`, Re-arrange dimensions of `imgs` so that when it is returned, `shape=(Num imgs, RGB color chans, height, width)` (No longer flatten non-batch dimensions)\n",
    "- In `load_stl10`, add an optional parameter to the function `scale_fact=3`, which specifies the factor by which to downscale the STL-10 images. The default (`scale_fact=3`) reduces the resolution from 96x96 to 32x32. Achieve this downscaling by passing along the optional parameter value when the `load` function in `load_stl10_dataset.py`."
   ]
  },
  {
   "cell_type": "code",
   "execution_count": 7,
   "metadata": {},
   "outputs": [],
   "source": [
    "import load_stl10_dataset\n",
    "import preprocess_data\n",
    "from network import ConvNet4\n",
    "import optimizer"
   ]
  },
  {
   "cell_type": "markdown",
   "metadata": {},
   "source": [
    "### 7b. Load in STL-10 at 16x16 resolution\n",
    "\n",
    "If you don't want to wait for STL-10 to download from the internet and resize, copy over your data and numpy folders from your MLP project.\n",
    "\n",
    "**Note:** The different train/test split here won't work if you hard coded the proportions in your `create_splits` implementation! *This isn't catastrophic, it just means that it will take longer to compute accuracy on the validation set.*"
   ]
  },
  {
   "cell_type": "code",
   "execution_count": 8,
   "metadata": {},
   "outputs": [
    {
     "name": "stdout",
     "output_type": "stream",
     "text": [
      "Images are: (5000, 96, 96, 3)\n",
      "Labels are: (5000,)\n",
      "Resizing 5000 images to 16x16...Done!\n",
      "Saving Numpy arrays the images and labels to ./numpy...Done!\n",
      "Train data shape:  (4578, 3, 16, 16)\n",
      "Train labels shape:  (4578,)\n",
      "Test data shape:  (400, 3, 16, 16)\n",
      "Test labels shape:  (400,)\n",
      "Validation data shape:  (2, 3, 16, 16)\n",
      "Validation labels shape:  (2,)\n",
      "dev data shape:  (20, 3, 16, 16)\n",
      "dev labels shape:  (20,)\n"
     ]
    }
   ],
   "source": [
    "# Download the STL-10 dataset from the internet, convert it to Numpy ndarray, resize to 16x16\n",
    "# cache it locally on your computer for faster loading next time.\n",
    "load_stl10_dataset.purge_cached_dataset()\n",
    "# preprocess and create splits\n",
    "x_train, y_train, x_test, y_test, x_val, y_val, x_dev, y_dev = preprocess_data.load_stl10(\n",
    "    n_train_samps=4578, n_test_samps=400, n_valid_samps=2, n_dev_samps=20, scale_fact=6)\n",
    "\n",
    "print ('Train data shape: ', x_train.shape)\n",
    "print ('Train labels shape: ', y_train.shape)\n",
    "print ('Test data shape: ', x_test.shape)\n",
    "print ('Test labels shape: ', y_test.shape)\n",
    "print ('Validation data shape: ', x_val.shape)\n",
    "print ('Validation labels shape: ', y_val.shape)\n",
    "print ('dev data shape: ', x_dev.shape)\n",
    "print ('dev labels shape: ', y_dev.shape)"
   ]
  },
  {
   "cell_type": "markdown",
   "metadata": {},
   "source": [
    "### 7c. Train and overfit the network on a small STL-10 sample with each optimizer\n",
    "\n",
    "#### Goal\n",
    "\n",
    "If your network works, you should see a drop in loss over epochs to 0 from the initial value of ~2.3.\n",
    "\n",
    "#### Todo\n",
    "\n",
    "In 3 seperate cells below\n",
    "\n",
    "- Create 3 different `ConvNet4` networks.\n",
    "- Compile each with a different optimizer (i.e. each net uses a different optimizer).\n",
    "- Train each on the **dev** set and validate on the tiny validation set (we don't care about out-of-training-set performance here).\n",
    "\n",
    "You will be making plots demonstrating the overfitting for each optimizer below. **You should train the nets with the same number of epochs such that at least 2/3 of them clearly show loss convergence to a small value; one optimizer may not converge yet, and that's ok**. Cut off the simulations based on the 2/3 that do converge.\n",
    "\n",
    "#### Guidelines\n",
    "\n",
    "- Weight scales and learning rates of `1e-2` should work well.\n",
    "- Start by testing the Adam optimizer.\n",
    "- Remember that the input shape is (3, 16, 16). You need to specify this to the network constructor.\n",
    "- The hyperparameters are up to you, though I wouldn't recommend a batch size that is too small (close to 1), otherwise it may be tricky to see whether the loss is actually decreasing on average.\n",
    "- Decreasing `acc_freq` will make the `fit` function evaluate the training and validation accuracy more often. This is a computationally intensive process, so small values come with an increase in training time. On the other hand, checking the accuracy too infrequently means you won't know whether the network is trending toward overfitting the training data, which is what you're checking for.\n",
    "- Each training session takes ~15 mins on my laptop.\n",
    "\n",
    "#### Caveat emptor\n",
    "\n",
    "Training convolutional networks is notoriously computationally intensive. If you experiment with hyperparameters, each training session may take several hours.\n",
    "\n",
    "- Use the loss/accuracy print outs to quickly gauge whether your hyperparameter choices are getting your network to decrease in loss.\n",
    "- Monitor print outs and interrupt the Jupyter kernel if things are not trending in the right direction."
   ]
  },
  {
   "cell_type": "code",
   "execution_count": 22,
   "metadata": {
    "scrolled": true
   },
   "outputs": [
    {
     "name": "stdout",
     "output_type": "stream",
     "text": [
      "[0.1033399 0.0613762 0.0693029 0.0820101 0.0693029 0.1688897 0.0810923\n",
      " 0.0716045 0.0826692 0.0613762 0.0847818 0.0693029 0.1263756 0.1334857\n",
      " 0.145867  0.1263756 0.1290681 0.1430618 0.0847818 0.0908988]\n",
      "time for 0th iteration: 3.836839199066162 seconds\n",
      "projected time to finish: 5.115785598754883 minutes\n",
      "iterations number: 0 ------- loss:  2.359058302174314\n",
      "train accuracy:  0.25\n",
      "validation accuracy:  0.5\n",
      "[0.0387116 0.0582152 0.6670545 0.0273953 0.6798567 0.0388391 0.1010947\n",
      " 0.0691366 0.1505841 0.012786  0.0748313 0.880943  0.0582152 0.0274956\n",
      " 0.0273953 0.0468078 0.08812   0.880943  0.6798567 0.08812  ]\n",
      "[0.3216921 0.1055755 0.0848718 0.2893549 0.1358365 0.3216921 0.1514905\n",
      " 0.1420806 0.0495598 0.1055755 0.0848718 0.2893549 0.0848718 0.0733714\n",
      " 0.137805  0.2893549 0.0848718 0.3290669 0.1420806 0.1055755]\n",
      "[0.1496789 0.1151848 0.0647514 0.0647514 0.1187795 0.1600818 0.2635391\n",
      " 0.3565886 0.1151848 0.073254  0.3565886 0.0655966 0.326785  0.1324984\n",
      " 0.0328704 0.0841888 0.0841888 0.1193266 0.0328704 0.2635391]\n",
      "[0.1154557 0.0965958 0.1252845 0.091981  0.2308519 0.1416089 0.1842027\n",
      " 0.1358746 0.1209628 0.0841265 0.1323829 0.0965958 0.0841265 0.1252845\n",
      " 0.1154557 0.0761609 0.2364685 0.1323829 0.091981  0.2364685]\n",
      "[0.16623   0.1137086 0.1115012 0.1103511 0.1144703 0.1192297 0.1205772\n",
      " 0.1936172 0.1936172 0.142957  0.1156364 0.1609586 0.1115012 0.1718341\n",
      " 0.1192297 0.1718341 0.0763234 0.0763234 0.1144703 0.0763234]\n",
      "[0.2300888 0.1367535 0.1156842 0.1388614 0.185076  0.2044487 0.1558551\n",
      " 0.1088779 0.1088779 0.1210214 0.2300888 0.2817556 0.1210214 0.1388614\n",
      " 0.1088779 0.1026649 0.112436  0.185076  0.1367535 0.1607612]\n",
      "[0.3546283 0.1623241 0.1705874 0.1117228 0.0996149 0.1159555 0.214509\n",
      " 0.0537336 0.1733674 0.2169069 0.0996149 0.0537336 0.0537336 0.4163814\n",
      " 0.2920643 0.1159555 0.1159555 0.1995456 0.0996149 0.1076184]\n",
      "[0.3744774 0.3744774 0.1950241 0.1950241 0.3744774 0.3744774 0.0522245\n",
      " 0.0891423 0.2780129 0.3157622 0.1700782 0.0816094 0.2215622 0.1700782\n",
      " 0.1700782 0.2186656 0.2780129 0.3744774 0.1073637 0.1950241]\n",
      "[0.3217749 0.4129089 0.2084306 0.1977193 0.0678387 0.106859  0.106859\n",
      " 0.5279875 0.2702085 0.3217749 0.5279875 0.3661653 0.1545744 0.1545744\n",
      " 0.5279875 0.5279875 0.2084306 0.4802472 0.2762654 0.3418729]\n",
      "[0.2831649 0.2066155 0.0368857 0.5009152 0.5205986 0.2831649 0.0500846\n",
      " 0.0179963 0.7123188 0.7123188 0.1193782 0.5205986 0.617103  0.0110752\n",
      " 0.0179963 0.0368857 0.5205986 0.5009152 0.1193782 0.0110752]\n",
      "iterations number: 10 ------- loss:  1.9744290640167943\n",
      "train accuracy:  0.5\n",
      "validation accuracy:  0.0\n",
      "[0.7535813 0.0379201 0.3924165 0.3552734 0.7535813 0.5566866 0.0379201\n",
      " 0.3924165 0.3552734 0.0379201 0.7535813 0.2353267 0.3552734 0.4997902\n",
      " 0.1764816 0.1764816 0.2447199 0.3741671 0.0622143 0.3497205]\n",
      "[0.2390259 0.2801272 0.3559191 0.1729416 0.5451736 0.4923263 0.1365793\n",
      " 0.3387084 0.2756318 0.1365793 0.2390259 0.7308323 0.2756318 0.7500108\n",
      " 0.150797  0.2756318 0.150797  0.2390259 0.3934737 0.2982641]\n",
      "[0.2166899 0.411563  0.1355113 0.2368065 0.4601492 0.2166899 0.8847175\n",
      " 0.150628  0.21252   0.4896465 0.0611923 0.2368065 0.4896465 0.5722848\n",
      " 0.2368065 0.5134447 0.5134447 0.2625648 0.0611923 0.1355113]\n",
      "[0.7236995 0.3837701 0.3793135 0.7236995 0.5335742 0.5335742 0.4394987\n",
      " 0.3218831 0.7236995 0.9163927 0.7236995 0.3793135 0.2099986 0.3218831\n",
      " 0.3793135 0.2201601 0.2305245 0.3837701 0.2201601 0.3793135]\n",
      "[0.3122452 0.9583464 0.0753654 0.0837877 0.3001434 0.0837877 0.0853976\n",
      " 0.2045286 0.3001434 0.252431  0.4855358 0.3001434 0.5532838 0.5532838\n",
      " 0.1483529 0.3122452 0.0837877 0.252431  0.1483529 0.3122452]\n",
      "[0.9843062 0.3206907 0.6395358 0.3206907 0.3101049 0.4122343 0.596021\n",
      " 0.3101049 0.5161965 0.5161965 0.7401111 0.1643993 0.3207487 0.4122343\n",
      " 0.3101049 0.1399028 0.5161965 0.7401111 0.4469039 0.5161965]\n",
      "[0.3972959 0.1774204 0.1113614 0.1774204 0.1774204 0.6774765 0.6567819\n",
      " 0.4086001 0.2462676 0.5294733 0.9118819 0.9137724 0.4451572 0.3036813\n",
      " 0.4646941 0.22164   0.4646941 0.6774765 0.3972959 0.1774204]\n",
      "[0.7007237 0.9755358 0.1510145 0.1510145 0.348576  0.9755358 0.348576\n",
      " 0.2812328 0.2812328 0.7007237 0.238916  0.2812328 0.7624082 0.5075275\n",
      " 0.2445967 0.7624082 0.4656887 0.238916  0.1594808 0.9755358]\n",
      "[0.0896765 0.1745223 0.5705149 0.817029  0.9773057 0.2071978 0.6948862\n",
      " 0.7740467 0.0896765 0.6898509 0.6948862 0.6898509 0.422688  0.6948862\n",
      " 0.1745223 0.5705149 0.6107268 0.6898509 0.62171   0.6107268]\n",
      "[0.8597361 0.9505321 0.8417318 0.3173514 0.614448  0.4592263 0.3951822\n",
      " 0.3632248 0.2179503 0.9649673 0.8597361 0.3173514 0.7255663 0.2179503\n",
      " 0.75338   0.9649673 0.822036  0.614448  0.4592263 0.7255663]\n",
      "iterations number: 20 ------- loss:  0.5765733624437591\n",
      "train accuracy:  0.8\n",
      "validation accuracy:  0.5\n",
      "[0.0533721 0.0533721 0.7610304 0.9126364 0.7329332 0.4004694 0.4004694\n",
      " 0.7304593 0.7906307 0.6614887 0.0455599 0.9216043 0.908983  0.7339429\n",
      " 0.0455599 0.4004694 0.0455599 0.0533721 0.0455599 0.0533721]\n",
      "[0.1087123 0.6551578 0.7365069 0.8947048 0.1087123 0.2968343 0.4220439\n",
      " 0.895445  0.5924401 0.8392599 0.4448812 0.6066142 0.895445  0.1087123\n",
      " 0.5924401 0.9969366 0.2391909 0.8983279 0.7365069 0.7223   ]\n",
      "[0.1368065 0.934174  0.9932673 0.9418179 0.6096766 0.9418179 0.3159313\n",
      " 0.9287899 0.5556137 0.8418868 0.934174  0.4809466 0.7845331 0.6096766\n",
      " 0.276987  0.5338996 0.9287899 0.694009  0.8418868 0.934174 ]\n",
      "[0.9876556 0.9876556 0.638878  0.638878  0.0153554 0.638878  0.5155525\n",
      " 0.9687719 0.9876556 0.0153554 0.0488814 0.7032382 0.638878  0.5155525\n",
      " 0.464915  0.9389418 0.9389418 0.858242  0.638878  0.8667942]\n",
      "[0.219599  0.5221373 0.4803262 0.9847419 0.32555   0.9932064 0.8432457\n",
      " 0.5503012 0.8432457 0.816794  0.8432457 0.32555   0.219599  0.5221373\n",
      " 0.891641  0.1409739 0.9932064 0.8432457 0.32555   0.4544425]\n",
      "[0.8211831 0.4543748 0.2112125 0.8130389 0.32156   0.7789862 0.8211831\n",
      " 0.650515  0.32156   0.8939753 0.8211831 0.4555951 0.4555951 0.8774554\n",
      " 0.8130389 0.8774554 0.2112125 0.8939753 0.4555951 0.8939753]\n",
      "[0.9771927 0.6074516 0.8908664 0.3817444 0.5008723 0.9538833 0.9258007\n",
      " 0.062824  0.9847203 0.5644165 0.3817444 0.7074043 0.7219363 0.2722053\n",
      " 0.062824  0.9771927 0.9771927 0.895067  0.062824  0.062824 ]\n",
      "[0.184665  0.5207424 0.1363517 0.3904461 0.7603905 0.184665  0.3906875\n",
      " 0.8615588 0.3904461 0.9207404 0.9166703 0.7434458 0.1363517 0.682918\n",
      " 0.9167093 0.8972482 0.8972482 0.184665  0.8150949 0.184665 ]\n",
      "[0.737517  0.8779775 0.1796282 0.4280567 0.5804284 0.9995686 0.8944405\n",
      " 0.9003789 0.8762267 0.2069022 0.9003789 0.8779775 0.9995686 0.625644\n",
      " 0.1796282 0.5872529 0.8762267 0.7142309 0.9995686 0.352343 ]\n",
      "[0.9611848 0.8452665 0.930455  0.335185  0.9611848 0.3390067 0.9248531\n",
      " 0.7323171 0.3390067 0.9873333 0.5717884 0.9999355 0.7323171 0.930455\n",
      " 0.2346762 0.9248531 0.3759726 0.9248531 0.4454457 0.2228651]\n",
      "iterations number: 30 ------- loss:  0.4907442756968241\n",
      "train accuracy:  0.85\n",
      "validation accuracy:  0.5\n",
      "[0.945931  0.2662427 0.8600623 0.8502133 0.4528362 0.9534751 0.9567315\n",
      " 0.9567315 0.9474276 0.6313787 0.1680116 0.9997857 0.945931  0.4688073\n",
      " 0.9567315 0.9534751 0.8502133 0.9091019 0.8600623 0.9997857]\n",
      "[0.959575  0.9219881 0.9219881 0.7350682 0.9987947 0.1294559 0.2520347\n",
      " 0.2520347 0.6716237 0.9753639 0.9753639 0.6716237 0.7502706 0.8467371\n",
      " 0.1294559 0.1042491 0.7350682 0.8001671 0.9680296 0.7502706]\n",
      "[0.6316678 0.2090529 0.9862688 0.4499104 0.9832772 0.7315847 0.6454475\n",
      " 0.9557157 0.9973925 0.6454475 0.7315847 0.9631584 0.9973925 0.7852246\n",
      " 0.2090529 0.9033284 0.9631584 0.6316678 0.9631584 0.9631584]\n",
      "[0.6860586 0.6547628 0.6860586 0.4628494 0.690817  0.9698155 0.7044287\n",
      " 0.9655555 0.99437   0.6547628 0.9904486 0.9972732 0.9843315 0.648529\n",
      " 0.8846608 0.7111373 0.7044287 0.7044287 0.7111373 0.5826172]\n",
      "[0.9778775 0.8099005 0.5571611 0.9981007 0.5395963 0.8099005 0.5395963\n",
      " 0.9916114 0.9704527 0.9106939 0.49879   0.5395963 0.9909368 0.8895499\n",
      " 0.822407  0.442869  0.9778775 0.7930064 0.9981007 0.5395963]\n",
      "[0.9877213 0.998622  0.9964414 0.9877213 0.8960888 0.9877213 0.9914021\n",
      " 0.9914021 0.9441561 0.8641219 0.998622  0.9877213 0.9914021 0.7582621\n",
      " 0.8641219 0.9664915 0.294215  0.9711198 0.9914021 0.294215 ]\n",
      "[0.9672849 0.8629813 0.6028891 0.3553863 0.3553863 0.9672849 0.7790532\n",
      " 0.9663679 0.6708444 0.9672849 0.9894797 0.975937  0.9988599 0.8629813\n",
      " 0.8629813 0.9941972 0.9663679 0.9429866 0.2750677 0.975937 ]\n",
      "[0.88305   0.2236143 0.9714923 0.9876826 0.2236143 0.5142971 0.9804719\n",
      " 0.987441  0.9850553 0.2236143 0.9532873 0.2236143 0.9717509 0.8936836\n",
      " 0.8936836 0.5142971 0.9977834 0.987441  0.5142971 0.2236143]\n",
      "[0.9985672 0.9993405 0.8343189 0.9958287 0.9738031 0.9993405 0.9958287\n",
      " 0.9993405 0.9923424 0.9747801 0.9747801 0.4354006 0.9824394 0.9824394\n",
      " 0.4354006 0.9993405 0.4010611 0.9958287 0.9824394 0.8350029]\n",
      "[0.471038  0.9773363 0.8608956 0.7889553 0.7333497 0.9795974 0.99354\n",
      " 0.915971  0.7846065 0.9773363 0.3733168 0.3733168 0.7846065 0.9839932\n",
      " 0.6673357 0.7333497 0.8449218 0.8449218 0.7333497 0.9773363]\n",
      "iterations number: 40 ------- loss:  0.27335516084358985\n",
      "train accuracy:  0.95\n",
      "validation accuracy:  0.5\n",
      "[0.8738357 0.871946  0.9975529 0.9985583 0.753477  0.7075706 0.9985583\n",
      " 0.7111139 0.9918238 0.9990176 0.9673987 0.9826996 0.5369238 0.9914754\n",
      " 0.9975529 0.5369238 0.871946  0.9673987 0.8016238 0.8738357]\n",
      "[0.9067032 0.9962778 0.9997592 0.5265895 0.7719664 0.6999726 0.9067032\n",
      " 0.4907516 0.9480732 0.7719664 0.4907516 0.9607876 0.9922693 0.9962778\n",
      " 0.9370231 0.9943869 0.9470416 0.9607876 0.9957458 0.9607876]\n",
      "[0.6911003 0.8774087 0.9068969 0.9791358 0.9971879 0.9068969 0.8774087\n",
      " 0.9822253 0.0373323 0.0373323 0.575423  0.8013262 0.8013262 0.9842272\n",
      " 0.8043793 0.9952944 0.0373323 0.6911003 0.999935  0.8043793]\n",
      "[0.9596401 0.9046699 0.8259011 0.8852876 0.9984531 0.9277689 0.9984531\n",
      " 0.9277689 0.9904413 0.9979407 0.9929459 0.8259011 0.9746575 0.9596401\n",
      " 0.9904413 0.9903316 0.9903316 0.8259011 0.9046699 0.9746575]\n",
      "[0.9988932 0.9955708 0.7627774 0.7627774 0.9826595 0.6731182 0.9988932\n",
      " 0.734415  0.9274148 0.9999838 0.9999838 0.9955708 0.9274148 0.9146048\n",
      " 0.9999838 0.9826595 0.9610018 0.9402453 0.9988932 0.734415 ]\n",
      "[0.9814391 0.9788726 0.7619366 0.9208419 0.9946546 0.7402362 0.9900054\n",
      " 0.9208419 0.9745925 0.9989875 0.9745925 0.9788726 0.9814391 0.9989875\n",
      " 0.7619366 0.9880962 0.7402362 0.8919451 0.9512472 0.9880962]\n",
      "[0.9855448 0.9990142 0.8655426 0.9789055 0.991328  0.153189  0.9855448\n",
      " 0.8655426 0.153189  0.9667357 0.9546596 0.9789055 0.8519041 0.9079506\n",
      " 0.9079506 0.9801593 0.9991282 0.9789055 0.7399626 0.9656564]\n",
      "[0.8873458 0.9277355 0.9353878 0.9277355 0.8873458 0.9990897 0.9998886\n",
      " 0.976369  0.9910415 0.9910415 0.9729071 0.9931242 0.9817104 0.2281592\n",
      " 0.9353878 0.9931242 0.9998886 0.8249576 0.9277355 0.9277355]\n",
      "[0.8989414 0.9911768 0.9946241 0.8587806 0.9995179 0.3880017 0.8973361\n",
      " 0.3880017 0.7372956 0.9998302 0.4173375 0.8587806 0.8973361 0.8989414\n",
      " 0.9768345 0.9890642 0.9768345 0.9441537 0.8587806 0.4173375]\n",
      "[0.9677386 0.9646851 0.9677386 0.9994069 0.9407357 0.9646851 0.7777042\n",
      " 0.9994069 0.9854512 0.9646851 0.9987828 0.9646851 0.9854512 0.8612225\n",
      " 0.8920169 0.8920169 0.9994069 0.3924597 0.9854512 0.9472398]\n",
      "iterations number: 50 ------- loss:  0.09681674332749704\n",
      "train accuracy:  1.0\n",
      "validation accuracy:  0.5\n",
      "[0.8128889 0.9430185 0.7520246 0.7520246 0.8128889 0.9287526 0.9774579\n",
      " 0.9287526 0.9774579 0.9175385 0.9668764 0.9953932 0.7520246 0.8807966\n",
      " 0.7520246 0.9077466 0.9635325 0.9751205 0.9939996 0.9980711]\n",
      "[0.9984987 0.9975406 0.9975406 0.9959762 0.8832469 0.9975406 0.9824392\n",
      " 0.6164919 0.980835  0.9722176 0.8832469 0.9957226 0.9959762 0.9211767\n",
      " 0.9943101 0.9998688 0.9722176 0.9957226 0.9762186 0.9106854]\n",
      "[0.7475518 0.9964082 0.7519616 0.9978903 0.9167977 0.9695339 0.9874417\n",
      " 0.8597516 0.9395548 0.9978903 0.9854274 0.9966729 0.9956293 0.9978903\n",
      " 0.9999053 0.9874417 0.9167977 0.7475518 0.7519616 0.9987775]\n",
      "[0.8920396 0.9879187 0.9905838 0.9965649 0.8556777 0.9999295 0.9932691\n",
      " 0.9905838 0.9965649 0.9999295 0.9964455 0.9958379 0.896692  0.9905838\n",
      " 0.9965649 0.9965649 0.9942973 0.913534  0.8556777 0.9942973]\n",
      "[0.9091839 0.9961444 0.9892166 0.98899   0.9984751 0.9984751 0.9262027\n",
      " 0.9650424 0.98899   0.9999547 0.8695861 0.8695861 0.8784386 0.9999547\n",
      " 0.9778738 0.9950427 0.9932676 0.9550931 0.9961013 0.9972059]\n",
      "[0.9990741 0.8756048 0.8699479 0.8756048 0.9996905 0.9307657 0.8699479\n",
      " 0.7300375 0.8670941 0.7300375 0.7300375 0.975797  0.8756048 0.8756048\n",
      " 0.9986098 0.7300375 0.975797  0.9307657 0.9933284 0.9783155]\n",
      "[0.9316932 0.9978972 0.9316932 0.926552  0.9998566 0.9840681 0.9950389\n",
      " 0.9950389 0.9970753 0.9860185 0.9860185 0.928255  0.9972333 0.9316932\n",
      " 0.9970753 0.9195755 0.9899212 0.9894133 0.9860185 0.926552 ]\n",
      "[0.99339   0.9902828 0.8115613 0.8347785 0.9744373 0.8347785 0.9934853\n",
      " 0.9902828 0.9885788 0.9934853 0.9999224 0.9531867 0.9863717 0.994217\n",
      " 0.9934853 0.9999892 0.9885788 0.99339   0.9902828 0.9826688]\n",
      "[0.9999528 0.9965241 0.9863127 0.9933223 0.9999528 0.9933223 0.9574875\n",
      " 0.9999912 0.9471305 0.9597336 0.9847738 0.9680593 0.9662829 0.9680593\n",
      " 0.9680593 0.9863127 0.8374906 0.9098426 0.9574875 0.9933223]\n",
      "[0.9661187 0.9898747 0.9972843 0.9417784 0.9033711 0.8953128 0.9933556\n",
      " 0.9999527 0.9933556 0.9725909 0.9868145 0.9999881 0.9605583 0.9286446\n",
      " 0.9972843 0.8953128 0.9972843 0.9999527 0.9933556 0.9417784]\n",
      "iterations number: 60 ------- loss:  0.033550064700222926\n",
      "train accuracy:  1.0\n",
      "validation accuracy:  0.5\n",
      "[0.9297271 0.9896361 0.9030553 0.9030553 0.9696667 0.9552811 0.9125887\n",
      " 0.9912423 0.9950663 0.9696667 0.9892256 0.9030553 0.9999843 0.9709017\n",
      " 0.9709017 0.9313531 0.9623458 0.9960529 0.9999843 0.9417523]\n",
      "[0.9643913 0.954203  0.9999006 0.9776748 0.9758318 0.9914693 0.9759529\n",
      " 0.9984354 0.9999825 0.9280173 0.9457269 0.9999825 0.9984354 0.9972842\n",
      " 0.9962691 0.9776748 0.9898102 0.9972842 0.9999006 0.9999825]\n",
      "[0.9803102 0.9960198 0.9244149 0.996371  0.9864638 0.9916325 0.9523328\n",
      " 0.9960198 0.9717265 0.9998337 0.9727761 0.9727761 0.9727761 0.9993292\n",
      " 0.9819172 0.9990567 0.9999714 0.9997841 0.9717265 0.9960198]\n",
      "[0.9970533 0.9999288 0.9827843 0.9997068 0.9970533 0.9999681 0.9999681\n",
      " 0.9997415 0.9876625 0.953383  0.9822739 0.9876625 0.9970533 0.9910204\n",
      " 0.9822739 0.9750839 0.9996016 0.9910204 0.9670537 0.9910204]\n",
      "[0.983892  0.9997807 0.983892  0.9935541 0.9998557 0.987052  0.9990858\n",
      " 0.9990858 0.9883114 0.9819752 0.9850272 0.9881544 0.987052  0.9945724\n",
      " 0.9682715 0.9881544 0.9850272 0.9944815 0.9945724 0.9999947]\n",
      "[0.9993611 0.9999227 0.9768027 0.9916378 0.9916242 0.9905155 0.9994518\n",
      " 0.9994518 0.9768027 0.9768027 0.9914031 0.9805583 0.9736295 0.9736295\n",
      " 0.9916242 0.9905155 0.9969198 0.9768027 0.9916378 0.9999227]\n",
      "[0.9942049 0.9982047 0.9781562 0.9889594 0.9982047 0.9948865 0.9826589\n",
      " 0.9999539 0.967413  0.9948865 0.9899474 0.996951  0.9999652 0.9826589\n",
      " 0.9999652 0.9781562 0.9851053 0.9999539 0.9999    0.9889594]\n",
      "[0.9989532 0.9943705 0.993734  0.9976677 0.993734  0.9869801 0.9963293\n",
      " 0.9999999 0.996204  0.9992671 0.986491  0.993734  0.993734  0.9943705\n",
      " 0.9807178 0.9963293 0.9840255 0.9943705 0.9869801 0.986199 ]\n",
      "[0.9999881 0.9978303 0.9807576 0.9966876 0.9820241 0.9805979 0.9907259\n",
      " 0.9999814 0.9831496 0.9999814 0.9977523 0.9888469 0.9943819 0.9714176\n",
      " 0.9999881 0.9831496 0.9907259 0.9999736 0.9820241 0.9714176]\n",
      "[0.9925164 0.9982727 0.9895827 0.983835  0.983835  0.9895827 0.9990605\n",
      " 0.9990605 0.9796145 0.983835  0.9999886 0.9733397 0.9999886 0.9982727\n",
      " 0.9999835 0.9679882 0.9999807 0.9999835 1.        0.9796145]\n",
      "iterations number: 70 ------- loss:  0.00917546453706173\n",
      "train accuracy:  1.0\n",
      "validation accuracy:  0.0\n",
      "[0.9318565 0.9960767 0.9751993 0.998867  0.9751224 0.9975545 0.9999865\n",
      " 0.9909197 0.9988573 0.9960659 0.9999792 0.9896618 0.9960767 0.9975545\n",
      " 0.999529  0.9999792 1.        0.9800973 0.9694089 0.9800973]\n",
      "[1.        0.9799136 0.9441186 0.9981342 0.9799136 0.9781634 0.9767246\n",
      " 0.9781634 0.9984009 0.9995204 0.9995204 0.9767246 0.9999895 0.9685066\n",
      " 0.9966161 0.9993281 0.9995204 0.9683773 1.        0.9981342]\n",
      "[0.9853913 0.9790473 0.9720883 0.9790473 0.9968995 0.9970698 0.9831481\n",
      " 0.9713318 0.9790473 0.9999906 0.9999711 0.9672852 0.9995862 0.999947\n",
      " 0.9999906 0.9720883 0.999479  0.9996035 0.9831481 0.9987715]\n",
      "[0.999764  0.9873209 0.9994044 0.9996431 0.9997372 0.9907367 0.9907367\n",
      " 0.9907367 0.9999576 0.9990023 0.9873209 0.9821773 0.9777859 0.9999576\n",
      " 0.9924903 0.9983095 0.997228  0.9990023 0.9924903 0.977646 ]\n",
      "[0.9999358 0.9993103 0.9993103 0.9944591 0.9999999 0.9989992 0.9993103\n",
      " 0.9993103 0.9998573 0.9999358 0.9989992 0.9999908 0.9999078 0.9792297\n",
      " 0.9999908 0.9999908 0.9999908 0.9999358 0.9992435 0.9999078]\n",
      "[0.99935   0.9993626 0.9999999 0.9996052 0.9999901 0.9838667 0.997517\n",
      " 0.9939332 0.9999604 0.9942264 0.9999999 0.997517  0.9999089 0.9990186\n",
      " 0.9999089 0.9963278 0.997517  0.9838667 0.9991991 0.9993626]\n",
      "[0.9974205 0.9990785 0.9999821 0.9990785 0.9999998 0.9995665 0.9889837\n",
      " 0.9999998 0.9772498 0.9993786 0.9948196 0.9990412 0.9995665 0.9999998\n",
      " 0.9990785 0.999652  0.9999998 0.9993786 0.999833  0.9974205]\n",
      "[0.9999907 0.9999876 0.9999996 0.9971306 0.9979827 0.9988658 0.9998176\n",
      " 0.9994365 0.9999876 0.9771707 0.9995012 0.9993797 0.9996651 0.9979284\n",
      " 0.9979284 0.9992125 0.9995012 0.9991464 0.9771707 0.9979284]\n",
      "[0.9962583 0.99527   0.9962583 0.9991992 0.9998018 0.9997098 0.9991992\n",
      " 0.9998018 0.999287  0.9981432 0.9981432 0.9897067 0.9981788 0.9999993\n",
      " 0.9931461 0.9975136 0.9997852 0.9897067 0.9981788 0.99527  ]\n",
      "final loss:  0.0028810306127420994\n",
      "final train accuracy  1.0\n"
     ]
    }
   ],
   "source": [
    "# Adam\n",
    "adam_ConvNet4 = ConvNet4(input_shape = (3,16,16), wt_scale = 1e-2)\n",
    "adam_ConvNet4.compile('adam')\n",
    "adam_ConvNet4.fit(x_dev, y_dev, x_val, y_val,acc_freq=10, print_every=10, mini_batch_sz = 20, n_epochs = 80)\n"
   ]
  },
  {
   "cell_type": "code",
   "execution_count": 23,
   "metadata": {
    "scrolled": true
   },
   "outputs": [
    {
     "name": "stdout",
     "output_type": "stream",
     "text": [
      "time for 0th iteration: 3.7266547679901123 seconds\n",
      "projected time to finish: 4.968873023986816 minutes\n",
      "iterations number: 0 ------- loss:  2.3099207618634567\n",
      "train accuracy:  0.15\n",
      "validation accuracy:  0.0\n",
      "iterations number: 10 ------- loss:  1.798552804855094\n",
      "train accuracy:  0.2\n",
      "validation accuracy:  0.0\n",
      "iterations number: 20 ------- loss:  0.960361552080836\n",
      "train accuracy:  0.6\n",
      "validation accuracy:  0.0\n",
      "iterations number: 30 ------- loss:  0.6265394673447106\n",
      "train accuracy:  0.75\n",
      "validation accuracy:  0.0\n",
      "iterations number: 40 ------- loss:  0.3063145062340189\n",
      "train accuracy:  0.75\n",
      "validation accuracy:  0.5\n",
      "iterations number: 50 ------- loss:  0.19209809177841075\n",
      "train accuracy:  0.95\n",
      "validation accuracy:  0.0\n",
      "iterations number: 60 ------- loss:  0.7213192619077993\n",
      "train accuracy:  0.55\n",
      "validation accuracy:  0.5\n",
      "iterations number: 70 ------- loss:  0.9489379185488492\n",
      "train accuracy:  0.75\n",
      "validation accuracy:  0.0\n",
      "final loss:  0.260946477622342\n",
      "final train accuracy  0.8\n"
     ]
    }
   ],
   "source": [
    "# SGD-M\n",
    "sgdm_ConvNet4 = ConvNet4(input_shape = (3,16,16), wt_scale = 1e-2)\n",
    "sgdm_ConvNet4.compile('sgd_m')\n",
    "sgdm_ConvNet4.fit(x_dev, y_dev, x_val, y_val,acc_freq=10, print_every=10, mini_batch_sz = 20, n_epochs = 80)"
   ]
  },
  {
   "cell_type": "code",
   "execution_count": 26,
   "metadata": {
    "scrolled": true
   },
   "outputs": [
    {
     "name": "stdout",
     "output_type": "stream",
     "text": [
      "time for 0th iteration: 3.789067029953003 seconds\n",
      "projected time to finish: 5.052089373270671 minutes\n",
      "iterations number: 0 ------- loss:  2.249073236704356\n",
      "train accuracy:  0.15\n",
      "validation accuracy:  0.5\n"
     ]
    },
    {
     "name": "stderr",
     "output_type": "stream",
     "text": [
      "/Users/ghailanfadah/Desktop/CH343/project 3/layer.py:168: RuntimeWarning: divide by zero encountered in log\n",
      "  loss = -(1/y.size)*np.sum(np.log(corrects))\n",
      "/Users/ghailanfadah/Desktop/CH343/project 3/layer.py:251: RuntimeWarning: divide by zero encountered in divide\n",
      "  dlast_net_act = -1/(len(net_act_copy) * net_act_copy)\n",
      "/Users/ghailanfadah/Desktop/CH343/project 3/layer.py:251: RuntimeWarning: overflow encountered in divide\n",
      "  dlast_net_act = -1/(len(net_act_copy) * net_act_copy)\n",
      "/Users/ghailanfadah/Desktop/CH343/project 3/layer.py:374: RuntimeWarning: invalid value encountered in multiply\n",
      "  d_net_in = d_upstream * self.net_act * (y_one_hot - self.net_act)\n",
      "/Users/ghailanfadah/Desktop/CH343/project 3/layer.py:465: RuntimeWarning: invalid value encountered in matmul\n",
      "  d_wts = np.reshape(self.input, (self.input.shape[0], np.prod(self.input.shape[1:]))).T @ d_upstream + self.reg*self.wts\n"
     ]
    },
    {
     "ename": "KeyboardInterrupt",
     "evalue": "",
     "output_type": "error",
     "traceback": [
      "\u001b[0;31m---------------------------------------------------------------------------\u001b[0m",
      "\u001b[0;31mKeyboardInterrupt\u001b[0m                         Traceback (most recent call last)",
      "\u001b[1;32m/Users/ghailanfadah/Desktop/CH343/project 3/optimize_and_train_cnn.ipynb Cell 24\u001b[0m line \u001b[0;36m4\n\u001b[1;32m      <a href='vscode-notebook-cell:/Users/ghailanfadah/Desktop/CH343/project%203/optimize_and_train_cnn.ipynb#Y146sZmlsZQ%3D%3D?line=1'>2</a>\u001b[0m sgd_ConvNet4 \u001b[39m=\u001b[39m ConvNet4(input_shape \u001b[39m=\u001b[39m (\u001b[39m3\u001b[39m,\u001b[39m16\u001b[39m,\u001b[39m16\u001b[39m), wt_scale \u001b[39m=\u001b[39m \u001b[39m1e-2\u001b[39m)\n\u001b[1;32m      <a href='vscode-notebook-cell:/Users/ghailanfadah/Desktop/CH343/project%203/optimize_and_train_cnn.ipynb#Y146sZmlsZQ%3D%3D?line=2'>3</a>\u001b[0m sgd_ConvNet4\u001b[39m.\u001b[39mcompile(\u001b[39m'\u001b[39m\u001b[39msgd\u001b[39m\u001b[39m'\u001b[39m)\n\u001b[0;32m----> <a href='vscode-notebook-cell:/Users/ghailanfadah/Desktop/CH343/project%203/optimize_and_train_cnn.ipynb#Y146sZmlsZQ%3D%3D?line=3'>4</a>\u001b[0m sgd_ConvNet4\u001b[39m.\u001b[39;49mfit(x_dev, y_dev, x_val, y_val,acc_freq\u001b[39m=\u001b[39;49m\u001b[39m10\u001b[39;49m, print_every\u001b[39m=\u001b[39;49m\u001b[39m10\u001b[39;49m, mini_batch_sz \u001b[39m=\u001b[39;49m \u001b[39m20\u001b[39;49m, n_epochs \u001b[39m=\u001b[39;49m \u001b[39m80\u001b[39;49m)\n",
      "File \u001b[0;32m~/Desktop/CH343/project 3/network.py:120\u001b[0m, in \u001b[0;36mNetwork.fit\u001b[0;34m(self, x_train, y_train, x_validate, y_validate, mini_batch_sz, n_epochs, acc_freq, print_every)\u001b[0m\n\u001b[1;32m    117\u001b[0m \u001b[39m#now we pass batch through forward:\u001b[39;00m\n\u001b[1;32m    119\u001b[0m \u001b[39mself\u001b[39m\u001b[39m.\u001b[39mloss_history\u001b[39m.\u001b[39mappend(\u001b[39mself\u001b[39m\u001b[39m.\u001b[39mforward(batch_X, batch_y))\n\u001b[0;32m--> 120\u001b[0m \u001b[39mself\u001b[39;49m\u001b[39m.\u001b[39;49mbackward(batch_y)\n\u001b[1;32m    121\u001b[0m iterations \u001b[39m+\u001b[39m\u001b[39m=\u001b[39m\u001b[39m1\u001b[39m\n\u001b[1;32m    123\u001b[0m \u001b[39mfor\u001b[39;00m layer \u001b[39min\u001b[39;00m \u001b[39mself\u001b[39m\u001b[39m.\u001b[39mlayers:\n",
      "File \u001b[0;32m~/Desktop/CH343/project 3/network.py:301\u001b[0m, in \u001b[0;36mNetwork.backward\u001b[0;34m(self, y)\u001b[0m\n\u001b[1;32m    298\u001b[0m d_b \u001b[39m=\u001b[39m \u001b[39mNone\u001b[39;00m\n\u001b[1;32m    300\u001b[0m \u001b[39mfor\u001b[39;00m layer \u001b[39min\u001b[39;00m \u001b[39mreversed\u001b[39m(\u001b[39mself\u001b[39m\u001b[39m.\u001b[39mlayers) :\n\u001b[0;32m--> 301\u001b[0m     d_upstream, d_wts, d_b \u001b[39m=\u001b[39m layer\u001b[39m.\u001b[39;49mbackward(d_upstream, y)\n",
      "File \u001b[0;32m~/Desktop/CH343/project 3/layer.py:228\u001b[0m, in \u001b[0;36mLayer.backward\u001b[0;34m(self, d_upstream, y)\u001b[0m\n\u001b[1;32m    225\u001b[0m     d_upstream \u001b[39m=\u001b[39m \u001b[39mself\u001b[39m\u001b[39m.\u001b[39mcompute_dlast_net_act()\n\u001b[1;32m    227\u001b[0m d_net_in \u001b[39m=\u001b[39m \u001b[39mself\u001b[39m\u001b[39m.\u001b[39mbackward_netAct_to_netIn(d_upstream, y)\n\u001b[0;32m--> 228\u001b[0m dprev_net_ac, d_wts, d_b \u001b[39m=\u001b[39m \u001b[39mself\u001b[39;49m\u001b[39m.\u001b[39;49mbackward_netIn_to_prevLayer_netAct(d_net_in)\n\u001b[1;32m    229\u001b[0m \u001b[39mself\u001b[39m\u001b[39m.\u001b[39md_wts \u001b[39m=\u001b[39m d_wts\n\u001b[1;32m    230\u001b[0m \u001b[39mself\u001b[39m\u001b[39m.\u001b[39md_b \u001b[39m=\u001b[39m d_b\n",
      "File \u001b[0;32m~/Desktop/CH343/project 3/layer.py:604\u001b[0m, in \u001b[0;36mConv2D.backward_netIn_to_prevLayer_netAct\u001b[0;34m(self, d_upstream)\u001b[0m\n\u001b[1;32m    600\u001b[0m                 dprev_net_act[n, :, y:y\u001b[39m+\u001b[39mker_sz, x:x\u001b[39m+\u001b[39mker_sz] \u001b[39m+\u001b[39m\u001b[39m=\u001b[39m d_upstream[n, k, y, x] \u001b[39m*\u001b[39m kers[k]\n\u001b[1;32m    602\u001b[0m                 \u001b[39m# Filter wts updated based on upstream change times inputs present in the filter\u001b[39;00m\n\u001b[1;32m    603\u001b[0m                 \u001b[39m# (this amount of input made the output change this much)\u001b[39;00m\n\u001b[0;32m--> 604\u001b[0m                 d_wts[k] \u001b[39m+\u001b[39m\u001b[39m=\u001b[39m d_upstream[n, k, y, x] \u001b[39m*\u001b[39m inputPadded[n, :, y:y\u001b[39m+\u001b[39mker_sz, x:x\u001b[39m+\u001b[39mker_sz]\n\u001b[1;32m    606\u001b[0m d_b \u001b[39m=\u001b[39m np\u001b[39m.\u001b[39msum(d_upstream, axis\u001b[39m=\u001b[39m(\u001b[39m0\u001b[39m, \u001b[39m2\u001b[39m, \u001b[39m3\u001b[39m))\n\u001b[1;32m    608\u001b[0m \u001b[39m# regularize the weight gradient\u001b[39;00m\n",
      "\u001b[0;31mKeyboardInterrupt\u001b[0m: "
     ]
    }
   ],
   "source": [
    "# SGD\n",
    "sgd_ConvNet4 = ConvNet4(input_shape = (3,16,16), wt_scale = 1e-2)\n",
    "sgd_ConvNet4.compile('sgd')\n",
    "sgd_ConvNet4.fit(x_dev, y_dev, x_val, y_val,acc_freq=10, print_every=10, mini_batch_sz = 20, n_epochs = 80)"
   ]
  },
  {
   "cell_type": "markdown",
   "metadata": {},
   "source": [
    "### 7d. Evaluate and plot the different optimizer results\n",
    "\n",
    "Make 2 \"high quality\" plots showing the following\n",
    "\n",
    "- Plot the accuracy (y axis) for the three optimizers as a function of training epoch (x axis).\n",
    "- Plot the loss (y axis) for the three optimizers as a function of training iteration (x axis).\n",
    "\n",
    "A high quality plot consists of:\n",
    "- A useful title\n",
    "- X and Y axis labels\n",
    "- A legend"
   ]
  },
  {
   "cell_type": "code",
   "execution_count": 24,
   "metadata": {},
   "outputs": [
    {
     "data": {
      "image/png": "[encoded data removed]",
      "text/plain": [
       "<Figure size 640x480 with 1 Axes>"
      ]
     },
     "metadata": {},
     "output_type": "display_data"
    }
   ],
   "source": [
    "plt.plot(sgdm_ConvNet4.train_acc_history, label =\"sgdm\")\n",
    "plt.plot(adam_ConvNet4.train_acc_history, label = \"adam\")\n",
    "plt.xlabel('Training mini-batch')\n",
    "plt.ylabel('Accuracy')\n",
    "plt.title(\"Accuracy per mini-batch\")\n",
    "plt.legend()\n",
    "plt.show()"
   ]
  },
  {
   "cell_type": "code",
   "execution_count": 25,
   "metadata": {},
   "outputs": [
    {
     "data": {
      "image/png": "[encoded data removed]",
      "text/plain": [
       "<Figure size 640x480 with 1 Axes>"
      ]
     },
     "metadata": {},
     "output_type": "display_data"
    }
   ],
   "source": [
    "plt.plot(sgdm_ConvNet4.loss_history, label =\"sgdm\")\n",
    "plt.plot(adam_ConvNet4.loss_history, label = \"adam\")\n",
    "plt.xlabel('Training mini-batch')\n",
    "plt.ylabel('Loss (cross-entropy)')\n",
    "plt.title(\"Training Loss per mini-batch\")\n",
    "plt.legend()\n",
    "plt.show()"
   ]
  },
  {
   "cell_type": "markdown",
   "metadata": {},
   "source": [
    "### 7e. Questions"
   ]
  },
  {
   "cell_type": "markdown",
   "metadata": {},
   "source": [
    "**Question 4**: Why does decreasing the mini-batch size make the loss print-outs more erratic in Task 7c?\n",
    "\n",
    "**Question 5**: Which optimizer works best and why do think it is best?\n",
    "\n",
    "**Question 6**: What is happening with the training set accuracy and why?"
   ]
  },
  {
   "cell_type": "markdown",
   "metadata": {},
   "source": [
    "**Answer 4:** because we have a freq_acc parameter that control how much to print inside each iteration so if we decrease mini-batch size we increase how fast we go through each epoch thus increase the amount of prints-outs\n",
    "\n",
    "**Answer 5:** Adam works best because it is sorta dynamic where it can determine how fast it should go based on the previous losses. It also determines a gradient for each indiviual wt instead of a one for all the wts. \n",
    "\n",
    "**Answer 6:** it is increases and afterwhile learned very well to the point the network is overfitted to it. "
   ]
  },
  {
   "cell_type": "markdown",
   "metadata": {},
   "source": [
    "## Task 8: Training your convolutional neural network on STL-10"
   ]
  },
  {
   "cell_type": "markdown",
   "metadata": {},
   "source": [
    "### 8a. Load in STL-10 at 32x32 resolution"
   ]
  },
  {
   "cell_type": "code",
   "execution_count": 4,
   "metadata": {},
   "outputs": [
    {
     "ename": "NameError",
     "evalue": "name 'load_stl10_dataset' is not defined",
     "output_type": "error",
     "traceback": [
      "\u001b[0;31m---------------------------------------------------------------------------\u001b[0m",
      "\u001b[0;31mNameError\u001b[0m                                 Traceback (most recent call last)",
      "\u001b[1;32m/Users/ghailanfadah/Desktop/CH343/project 3/optimize_and_train_cnn.ipynb Cell 33\u001b[0m line \u001b[0;36m3\n\u001b[1;32m      <a href='vscode-notebook-cell:/Users/ghailanfadah/Desktop/CH343/project%203/optimize_and_train_cnn.ipynb#X44sZmlsZQ%3D%3D?line=0'>1</a>\u001b[0m \u001b[39m# Download the STL-10 dataset from the internet, convert it to Numpy ndarray, resize to 16x16\u001b[39;00m\n\u001b[1;32m      <a href='vscode-notebook-cell:/Users/ghailanfadah/Desktop/CH343/project%203/optimize_and_train_cnn.ipynb#X44sZmlsZQ%3D%3D?line=1'>2</a>\u001b[0m \u001b[39m# cache it locally on your computer for faster loading next time.\u001b[39;00m\n\u001b[0;32m----> <a href='vscode-notebook-cell:/Users/ghailanfadah/Desktop/CH343/project%203/optimize_and_train_cnn.ipynb#X44sZmlsZQ%3D%3D?line=2'>3</a>\u001b[0m load_stl10_dataset\u001b[39m.\u001b[39mpurge_cached_dataset()\n\u001b[1;32m      <a href='vscode-notebook-cell:/Users/ghailanfadah/Desktop/CH343/project%203/optimize_and_train_cnn.ipynb#X44sZmlsZQ%3D%3D?line=3'>4</a>\u001b[0m \u001b[39m# preprocess and create splits\u001b[39;00m\n\u001b[1;32m      <a href='vscode-notebook-cell:/Users/ghailanfadah/Desktop/CH343/project%203/optimize_and_train_cnn.ipynb#X44sZmlsZQ%3D%3D?line=4'>5</a>\u001b[0m x_train, y_train, x_test, y_test, x_val, y_val, x_dev, y_dev \u001b[39m=\u001b[39m preprocess_data\u001b[39m.\u001b[39mload_stl10(\n\u001b[1;32m      <a href='vscode-notebook-cell:/Users/ghailanfadah/Desktop/CH343/project%203/optimize_and_train_cnn.ipynb#X44sZmlsZQ%3D%3D?line=5'>6</a>\u001b[0m     n_train_samps\u001b[39m=\u001b[39m\u001b[39m4398\u001b[39m, n_test_samps\u001b[39m=\u001b[39m\u001b[39m400\u001b[39m, n_valid_samps\u001b[39m=\u001b[39m\u001b[39m200\u001b[39m, n_dev_samps\u001b[39m=\u001b[39m\u001b[39m2\u001b[39m, scale_fact\u001b[39m=\u001b[39m\u001b[39m3\u001b[39m)\n",
      "\u001b[0;31mNameError\u001b[0m: name 'load_stl10_dataset' is not defined"
     ]
    }
   ],
   "source": [
    "# Download the STL-10 dataset from the internet, convert it to Numpy ndarray, resize to 16x16\n",
    "# cache it locally on your computer for faster loading next time.\n",
    "load_stl10_dataset.purge_cached_dataset()\n",
    "# preprocess and create splits\n",
    "x_train, y_train, x_test, y_test, x_val, y_val, x_dev, y_dev = preprocess_data.load_stl10(\n",
    "    n_train_samps=4398, n_test_samps=400, n_valid_samps=200, n_dev_samps=2, scale_fact=3)\n",
    "\n",
    "print ('Train data shape: ', x_train.shape)\n",
    "print ('Train labels shape: ', y_train.shape)\n",
    "print ('Test data shape: ', x_test.shape)\n",
    "print ('Test labels shape: ', y_test.shape)\n",
    "print ('Validation data shape: ', x_val.shape)\n",
    "print ('Validation labels shape: ', y_val.shape)\n",
    "print ('dev data shape: ', x_dev.shape)\n",
    "print ('dev labels shape: ', y_dev.shape)"
   ]
  },
  {
   "cell_type": "markdown",
   "metadata": {},
   "source": [
    "### 8b. Set up accelerated convolution and max pooling layers\n",
    "\n",
    "As you may have noticed, we had to downsize STL-10 to 16x16 resolution to train the network on the dev set (N=20) in a reasonable amount of time. The training set has N≅4000 samples, how will we ever manage to process that amount of data?!\n",
    "\n",
    "On one hand, this is an unfortunate inevitable reality of working with large (\"big\") datasets: you can easily find a dataset that is too time consuming to process for any computer, despite how fast/many CPU/GPUs it has.\n",
    "\n",
    "On the other hand, we can do better for this project and STL-10 :) If you were to time (profile) different parts of the training process, you'd notice that largest bottleneck is convolution and max pooling operations (both forward/backward). You implemented those operations intuitively, which does not always yield the best performance. **By swapping out forward/backward convolution and maxpooling for implementations that use different algorithms (im2col, reshaping) that are compiled to C code, we will speed up training up by several orders of magnitude**.\n",
    "\n",
    "Follow these steps to subsitute in the \"accelerated\" convolution and max pooling layers.\n",
    "\n",
    "- Install the `cython` python package: `pip3 install cython`.\n",
    "- Dowload files `im2col_cython.pyx`, `accelerated_layer.py`, `setup.py` from the project website. Put them in your base project folder.\n",
    "- Open terminal, `cd` to Project directory.\n",
    "- Compile the im2col functions: `python3 setup.py build_ext --inplace`. A `.c` and `.so` file should have appeared in your project folder (*It is ok if it prints out a bunch of warnings. If it creates `.c` and `.so` files after a few seconds, you should be all set.*).\n",
    "- Restart Jupyter Notebook kernel\n",
    "- Create a class called `Conv4NetAccel` in `network.py` by copy-pasting the contents of `Conv4Net`. Import `accelerated_layer` at the top and replace the `Conv2D` and `MaxPooling2D` layers with `Conv2DAccel` and `MaxPooling2DAccel`.\n",
    "\n",
    "\n",
    "#### Windows users\n",
    "\n",
    "The above compile terminal command for Windows users is:\n",
    "\n",
    "```bash\n",
    "python setup.py build_ext --inplace\n",
    "```\n",
    "\n",
    "Before this can work though, you’ll need a C/C++ compiler installed on your system. To do this, download [Microsoft Build tools for Visual Studio 2019](https://visualstudio.microsoft.com/thank-you-downloading-visual-studio/?sku=BuildTools&rel=16). Click to download the installer. Run it and select the C++ compiler option. It might ask you to install other stuff, but that shouldn’t be necessary — just the C++ compiler. After it is installed, run the above python terminal command. It should end without error (last line should be “Finished generating code”). Warning printouts are fine."
   ]
  },
  {
   "cell_type": "markdown",
   "metadata": {},
   "source": [
    "### 8c. Training convolutional neural network on STL-10\n",
    "\n",
    "You are now ready to train on the entire training set.\n",
    "\n",
    "- Create a `Conv4NetAccel` object with hyperparameters of your choice.\n",
    "- Your goal is to achieve at least 45% accuracy on the test and/or validation set.\n",
    "\n",
    "#### Notes\n",
    "\n",
    "- I suggest using your intuition about hyperparameters and over/underfitting to guide your choice, rather than a grid search. This should not be overly challenging.\n",
    "- Use the best / most efficient optimizer based on your prior analysis.\n",
    "- It should take on the order of 1 sec per training iteration. If that's way off, seek help as something could be wrong with running the acclerated code."
   ]
  },
  {
   "cell_type": "code",
   "execution_count": 1,
   "metadata": {},
   "outputs": [],
   "source": [
    "from network import ConvNet4Accel"
   ]
  },
  {
   "cell_type": "code",
   "execution_count": 10,
   "metadata": {},
   "outputs": [
    {
     "ename": "ValueError",
     "evalue": "matmul: Input operand 1 has a mismatch in its core dimension 0, with gufunc signature (n?,k),(k,m?)->(n?,m?) (size 8192 is different from 2048)",
     "output_type": "error",
     "traceback": [
      "\u001b[0;31m---------------------------------------------------------------------------\u001b[0m",
      "\u001b[0;31mValueError\u001b[0m                                Traceback (most recent call last)",
      "\u001b[1;32m/Users/ghailanfadah/Desktop/CH343/project 3/optimize_and_train_cnn.ipynb Cell 37\u001b[0m line \u001b[0;36m3\n\u001b[1;32m      <a href='vscode-notebook-cell:/Users/ghailanfadah/Desktop/CH343/project%203/optimize_and_train_cnn.ipynb#X51sZmlsZQ%3D%3D?line=0'>1</a>\u001b[0m stl10_accel \u001b[39m=\u001b[39m ConvNet4Accel()\n\u001b[1;32m      <a href='vscode-notebook-cell:/Users/ghailanfadah/Desktop/CH343/project%203/optimize_and_train_cnn.ipynb#X51sZmlsZQ%3D%3D?line=1'>2</a>\u001b[0m stl10_accel\u001b[39m.\u001b[39mcompile(\u001b[39m'\u001b[39m\u001b[39madam\u001b[39m\u001b[39m'\u001b[39m)\n\u001b[0;32m----> <a href='vscode-notebook-cell:/Users/ghailanfadah/Desktop/CH343/project%203/optimize_and_train_cnn.ipynb#X51sZmlsZQ%3D%3D?line=2'>3</a>\u001b[0m stl10_accel\u001b[39m.\u001b[39;49mfit(x_train, y_train, x_val, y_val,acc_freq\u001b[39m=\u001b[39;49m\u001b[39m10\u001b[39;49m, print_every\u001b[39m=\u001b[39;49m\u001b[39m10\u001b[39;49m, mini_batch_sz \u001b[39m=\u001b[39;49m \u001b[39m20\u001b[39;49m, n_epochs \u001b[39m=\u001b[39;49m \u001b[39m150\u001b[39;49m)\n",
      "File \u001b[0;32m~/Desktop/CH343/project 3/network.py:120\u001b[0m, in \u001b[0;36mNetwork.fit\u001b[0;34m(self, x_train, y_train, x_validate, y_validate, mini_batch_sz, n_epochs, acc_freq, print_every)\u001b[0m\n\u001b[1;32m    116\u001b[0m batch_y \u001b[39m=\u001b[39m y_train[samples]\n\u001b[1;32m    118\u001b[0m \u001b[39m#now we pass batch through forward:\u001b[39;00m\n\u001b[0;32m--> 120\u001b[0m \u001b[39mself\u001b[39m\u001b[39m.\u001b[39mloss_history\u001b[39m.\u001b[39mappend(\u001b[39mself\u001b[39;49m\u001b[39m.\u001b[39;49mforward(batch_X, batch_y))\n\u001b[1;32m    121\u001b[0m \u001b[39mself\u001b[39m\u001b[39m.\u001b[39mbackward(batch_y)\n\u001b[1;32m    122\u001b[0m iterations \u001b[39m+\u001b[39m\u001b[39m=\u001b[39m\u001b[39m1\u001b[39m\n",
      "File \u001b[0;32m~/Desktop/CH343/project 3/network.py:253\u001b[0m, in \u001b[0;36mNetwork.forward\u001b[0;34m(self, inputs, y)\u001b[0m\n\u001b[1;32m    251\u001b[0m prev_ins \u001b[39m=\u001b[39m inputs\n\u001b[1;32m    252\u001b[0m \u001b[39mfor\u001b[39;00m l \u001b[39min\u001b[39;00m \u001b[39mself\u001b[39m\u001b[39m.\u001b[39mlayers:\n\u001b[0;32m--> 253\u001b[0m     prev_ins \u001b[39m=\u001b[39m l\u001b[39m.\u001b[39;49mforward(prev_ins)\n\u001b[1;32m    254\u001b[0m loss \u001b[39m=\u001b[39m \u001b[39mself\u001b[39m\u001b[39m.\u001b[39mlayers[\u001b[39m-\u001b[39m\u001b[39m1\u001b[39m]\u001b[39m.\u001b[39mcross_entropy(y)\n\u001b[1;32m    255\u001b[0m wt_reg \u001b[39m=\u001b[39m \u001b[39mself\u001b[39m\u001b[39m.\u001b[39mwt_reg_reduce()\n",
      "File \u001b[0;32m~/Desktop/CH343/project 3/layer.py:190\u001b[0m, in \u001b[0;36mLayer.forward\u001b[0;34m(self, inputs)\u001b[0m\n\u001b[1;32m    173\u001b[0m \u001b[39m\u001b[39m\u001b[39m'''Computes the forward pass through this particular layer.\u001b[39;00m\n\u001b[1;32m    174\u001b[0m \n\u001b[1;32m    175\u001b[0m \u001b[39mTODO:\u001b[39;00m\n\u001b[0;32m   (...)\u001b[0m\n\u001b[1;32m    187\u001b[0m \u001b[39mA COPY (not a reference) of net_act.\u001b[39;00m\n\u001b[1;32m    188\u001b[0m \u001b[39m'''\u001b[39;00m\n\u001b[1;32m    189\u001b[0m \u001b[39mself\u001b[39m\u001b[39m.\u001b[39minput \u001b[39m=\u001b[39m inputs\n\u001b[0;32m--> 190\u001b[0m \u001b[39mself\u001b[39;49m\u001b[39m.\u001b[39;49mcompute_net_in()\n\u001b[1;32m    191\u001b[0m \u001b[39mself\u001b[39m\u001b[39m.\u001b[39mcompute_net_act()\n\u001b[1;32m    192\u001b[0m \u001b[39mreturn\u001b[39;00m np\u001b[39m.\u001b[39mcopy(\u001b[39mself\u001b[39m\u001b[39m.\u001b[39mnet_act)\n",
      "File \u001b[0;32m~/Desktop/CH343/project 3/layer.py:432\u001b[0m, in \u001b[0;36mDense.compute_net_in\u001b[0;34m(self)\u001b[0m\n\u001b[1;32m    430\u001b[0m A \u001b[39m=\u001b[39m np\u001b[39m.\u001b[39mprod(\u001b[39mself\u001b[39m\u001b[39m.\u001b[39minput\u001b[39m.\u001b[39mshape[\u001b[39m1\u001b[39m:])\n\u001b[1;32m    431\u001b[0m B \u001b[39m=\u001b[39m \u001b[39mself\u001b[39m\u001b[39m.\u001b[39minput\u001b[39m.\u001b[39mshape[\u001b[39m0\u001b[39m]  \n\u001b[0;32m--> 432\u001b[0m \u001b[39mself\u001b[39m\u001b[39m.\u001b[39mnet_in \u001b[39m=\u001b[39m np\u001b[39m.\u001b[39;49mreshape(\u001b[39mself\u001b[39;49m\u001b[39m.\u001b[39;49minput,(B,A)) \u001b[39m@\u001b[39;49m \u001b[39mself\u001b[39;49m\u001b[39m.\u001b[39;49mwts \u001b[39m+\u001b[39m \u001b[39mself\u001b[39m\u001b[39m.\u001b[39mb       \n\u001b[1;32m    434\u001b[0m \u001b[39mpass\u001b[39;00m\n",
      "\u001b[0;31mValueError\u001b[0m: matmul: Input operand 1 has a mismatch in its core dimension 0, with gufunc signature (n?,k),(k,m?)->(n?,m?) (size 8192 is different from 2048)"
     ]
    }
   ],
   "source": [
    "stl10_accel = ConvNet4Accel()\n",
    "stl10_accel.compile('adam')\n",
    "stl10_accel.fit(x_train, y_train, x_val, y_val,acc_freq=10, print_every=10, mini_batch_sz = 20, n_epochs = 150)"
   ]
  },
  {
   "cell_type": "markdown",
   "metadata": {},
   "source": [
    "### 8d. Analysis of STL-10 training quality\n",
    "\n",
    "Use your trained network that achieves 45%+ accuracy on the test set to make \"high quality\" plots showing the following \n",
    "\n",
    "- Plot the accuracy of the training and validation sets as a function of training epoch. You may have to convert iterations to epochs.\n",
    "- Plot the loss as a function of training iteration."
   ]
  },
  {
   "cell_type": "code",
   "execution_count": null,
   "metadata": {},
   "outputs": [],
   "source": []
  },
  {
   "cell_type": "code",
   "execution_count": null,
   "metadata": {},
   "outputs": [],
   "source": []
  },
  {
   "cell_type": "markdown",
   "metadata": {},
   "source": [
    "### 8e. Visualize layer weights\n",
    "\n",
    "Run the following code and submit the inline image of the weight visualization of the 1st layer (convolutional layer) of the network.\n",
    "\n",
    "**Note:**\n",
    "- Setting optional parameter to `True` will let you save a .PNG file in your project folder of your weights. I'd suggest setting it to `False` unless look at your weights and they look like they are worth saving. You don't want a training run that produces undesirable weights to overwrite your good looking results!"
   ]
  },
  {
   "cell_type": "code",
   "execution_count": null,
   "metadata": {},
   "outputs": [],
   "source": [
    "def plot_weights(wts, saveFig=True, filename='convWts.png'):\n",
    "    grid_sz = int(np.sqrt(len(wts)))\n",
    "    plt.figure(figsize=(10,10))\n",
    "    for x in range(grid_sz):\n",
    "        for y in range(grid_sz):\n",
    "            lin_ind = np.ravel_multi_index((x, y), dims=(grid_sz, grid_sz))\n",
    "            plt.subplot(grid_sz, grid_sz, lin_ind+1)\n",
    "            currImg = wts[lin_ind]\n",
    "            low, high = np.min(currImg), np.max(currImg)\n",
    "            currImg = 255*(currImg - low) / (high - low)\n",
    "            currImg = currImg.astype('uint8')\n",
    "            plt.imshow(currImg)\n",
    "            plt.gca().axis('off')\n",
    "    plt.subplots_adjust(wspace=0.01, hspace=0.01)\n",
    "    if saveFig:\n",
    "        plt.savefig(filename)\n",
    "    plt.show()"
   ]
  },
  {
   "cell_type": "code",
   "execution_count": null,
   "metadata": {},
   "outputs": [],
   "source": [
    "# Subsitute your trained network below\n",
    "# netT is my network's name\n",
    "# Every weight should not look like RGB noise\n",
    "plot_weights(netT.layers[0].wts.transpose(0, 2, 3, 1), saveFig=True, filename='convWts_adam_train_20epoch.png')"
   ]
  },
  {
   "cell_type": "markdown",
   "metadata": {},
   "source": [
    "### 8f. Questions"
   ]
  },
  {
   "cell_type": "markdown",
   "metadata": {},
   "source": [
    "**Question 7:** What do the learned filters look like? Does this make sense to you / is this what you expected? In which area of the brain do these filters resemble cell receptive fields?\n",
    "\n",
    "#### Note\n",
    "\n",
    "You should not see RGB \"noise\". If you do, and you pass the \"overfit\" test with the Adam optimizer, you probably need to increase the number of training epochs."
   ]
  },
  {
   "cell_type": "markdown",
   "metadata": {},
   "source": [
    "**Answer 7:** "
   ]
  },
  {
   "cell_type": "markdown",
   "metadata": {},
   "source": [
    "## Extensions\n",
    "\n",
    "**General advice:** When making modifications for extensions, make small changes, then check to make sure you pass test code. Also, test out the network runtime on small examples before/after the changes. If you're not careful, the simulation time can become intractable really quickly!\n",
    "\n",
    "**Remember:** One thorough extension usually is worth more than several \"shallow\" extensions."
   ]
  },
  {
   "cell_type": "markdown",
   "metadata": {},
   "source": [
    "### 0. Pedal to the metal: achieve high accuracy on STL-10\n",
    "\n",
    "You can achieve higher (>50%) classification accuracy on the STL-10 test set. Find the hyperparameters to achieve this. You can use random or grid search — keep in mind that even with the accelerated layers, each training run will take at least minutes to complete."
   ]
  },
  {
   "cell_type": "markdown",
   "metadata": {},
   "source": [
    "### 1. Experiment with different network architectures.\n",
    "\n",
    "The design of the `Network` class is modular. As long as you're careful about shapes, adding/removing network layers (e.g. `Conv2D`, `Dense`, etc.) should be straight forward. Experiment with adding another sequence of `Conv2D` and `MaxPooling2D` layers. Add another `Dense` hidden layer before the output layer. How do the changes affect classification accuracy and loss? "
   ]
  },
  {
   "cell_type": "markdown",
   "metadata": {},
   "source": [
    "### 2. Experiment with different network hyperparameters.\n",
    "\n",
    "Explore the affect one or more change below has on classification. Be careful about how the hyperparameters may affect the shape of network layers. Thorough analysis will get you more points (not try a few ad hoc values).\n",
    "\n",
    "- Experiment with different numbers of hidden units in the Dense layers.\n",
    "- Experiment different max pooling window sizes and strides.\n",
    "- Experiment with kernel sizes (not 7x7). Can you get away with smaller ones? Do they perform just as well? What is the change in runtime like? What is the impact on their visualized appearance?\n",
    "- Experiment with number of kernels in the convolutional layer. Is more/fewer better? What is the impact on their visualized appearance?"
   ]
  },
  {
   "cell_type": "markdown",
   "metadata": {},
   "source": [
    "### 3. Different hidden layer activation functions\n",
    "\n",
    "Implement and experiment with activation functions that are appropriate for hidden layers (e.g. ELU, SELU, GELU, sigmoid, Softplus, Mish, etc.). How do they affect speed of training and accuracy? These activation functions can replace ReLU in Dense and Conv2D layers."
   ]
  },
  {
   "cell_type": "markdown",
   "metadata": {},
   "source": [
    "###  4. Add and test some training bells and whistles\n",
    "\n",
    "Add features like early stopping, learning rate decay (learning rate at the end of an epoch becomes some fraction of its former value), etc and assess how they affect training loss convergence and accuracy. "
   ]
  },
  {
   "cell_type": "markdown",
   "metadata": {},
   "source": [
    "### 5. Additional optimizers\n",
    "\n",
    "Research other optimizers used in backpropogation and implement one or more of them within the model structure. Compare its performance to ones you have implemented"
   ]
  },
  {
   "cell_type": "markdown",
   "metadata": {},
   "source": [
    "### 6. Optimize your algorithms\n",
    "\n",
    "Find the main performance bottlenecks in the network and improve your code to reduce runtime (e.g. reduce explicit for loops, increase vectorization, etc). Research faster algorithms to do operations like convolution and implement them. Given the complexity of the network, I suggest focusing on one area at a time and make sure everything you change passes the test code before proceeding. Quantify and discuss your performance improvements"
   ]
  },
  {
   "cell_type": "markdown",
   "metadata": {},
   "source": [
    "### 7. Additional loss functions\n",
    "\n",
    "Implement support for sigmoid, or another activation functions and associated losses. Test it out and compare with softmax/cross entropy. Make sure any necessary changes to the layer's gradient are made."
   ]
  },
  {
   "cell_type": "markdown",
   "metadata": {},
   "source": [
    "### 8. Additional datasets\n",
    "\n",
    "Do classification and analyze the results with an image dataset of your choice (MNIST, Fashion MNIST, CIFAR10, etc.)."
   ]
  },
  {
   "cell_type": "markdown",
   "metadata": {},
   "source": [
    "### 9. Performance analysis\n",
    "\n",
    "Do a thorough comparative analysis of the non-accelerated network and accelerated networks with respect to runtime."
   ]
  },
  {
   "cell_type": "markdown",
   "metadata": {},
   "source": [
    "### 10. Visualize network predictions\n",
    "\n",
    "Plot predicted class labels with a sample of test images to better assess where the network excels and where it struggles."
   ]
  },
  {
   "cell_type": "markdown",
   "metadata": {},
   "source": [
    "### 11. Confusion matrix\n",
    "\n",
    "Make a confusion matrix and analyze the pattern of errors made by the network. For example, does the network confuse any two classes far more than others?"
   ]
  }
 ],
 "metadata": {
  "kernelspec": {
   "display_name": "Python 3 (ipykernel)",
   "language": "python",
   "name": "python3"
  },
  "language_info": {
   "codemirror_mode": {
    "name": "ipython",
    "version": 3
   },
   "file_extension": ".py",
   "mimetype": "text/x-python",
   "name": "python",
   "nbconvert_exporter": "python",
   "pygments_lexer": "ipython3",
   "version": "3.10.8"
  },
  "vscode": {
   "interpreter": {
    "hash": "aee8b7b246df8f9039afb4144a1f6fd8d2ca17a180786b69acc140d282b71a49"
   }
  }
 },
 "nbformat": 4,
 "nbformat_minor": 2
}
